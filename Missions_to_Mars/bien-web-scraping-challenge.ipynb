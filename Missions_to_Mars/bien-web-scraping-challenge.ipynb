{
 "cells": [
  {
   "cell_type": "markdown",
   "metadata": {},
   "source": [
    "### Michael Bien: web-scraping-challenge"
   ]
  },
  {
   "cell_type": "code",
   "execution_count": 28,
   "metadata": {},
   "outputs": [],
   "source": [
    "# import dependencies\n",
    "from splinter import Browser\n",
    "from bs4 import BeautifulSoup"
   ]
  },
  {
   "cell_type": "code",
   "execution_count": 29,
   "metadata": {},
   "outputs": [],
   "source": [
    "# Windows user\n",
    "executable_path = {'executable_path': 'chromedriver.exe'}\n",
    "browser = Browser('chrome', **executable_path, headless=False)"
   ]
  },
  {
   "cell_type": "code",
   "execution_count": 30,
   "metadata": {},
   "outputs": [],
   "source": [
    "# Retreive page with request\n",
    "#response = requests.get(url)"
   ]
  },
  {
   "cell_type": "code",
   "execution_count": 31,
   "metadata": {},
   "outputs": [],
   "source": [
    "# Create BeautifulSoup object\n",
    "# soup = BeautifulSoup(response.text, 'html.parser')"
   ]
  },
  {
   "cell_type": "code",
   "execution_count": 32,
   "metadata": {},
   "outputs": [],
   "source": [
    "# Define url to scrape\n",
    "url = \"https://mars.nasa.gov/news/\"\n",
    "browser.visit(url)\n",
    "\n",
    "# Splinter\n",
    "# Visit and parse web page\n",
    "html = browser.html\n",
    "soup = BeautifulSoup(html, \"html.parser\")\n",
    "    \n",
    "#Beautiful Soup\n",
    "# Print first list item\n",
    "first_headline = soup.find(\"li\", class_=\"slide\")\n",
    "news_title = first_headline.h3.text.strip()\n",
    "\n",
    "article = soup.find(\"div\", class_=\"article_teaser_body\")\n",
    "news_p = article.text.strip()"
   ]
  },
  {
   "cell_type": "code",
   "execution_count": 33,
   "metadata": {},
   "outputs": [
    {
     "name": "stdout",
     "output_type": "stream",
     "text": [
      "Sensors on Mars 2020 Spacecraft Answer Long-Distance Call From Earth\n",
      "Instruments tailored to collect data during the descent of NASA's next rover through the Red Planet's atmosphere have been checked in flight.\n"
     ]
    }
   ],
   "source": [
    "print(news_title)\n",
    "print(news_p)"
   ]
  },
  {
   "cell_type": "code",
   "execution_count": 34,
   "metadata": {},
   "outputs": [
    {
     "data": {
      "text/plain": [
       "bs4.BeautifulSoup"
      ]
     },
     "execution_count": 34,
     "metadata": {},
     "output_type": "execute_result"
    }
   ],
   "source": [
    "# Define url to scrape\n",
    "url = \"https://www.jpl.nasa.gov/spaceimages/?search=&category=Mars\"\n",
    "browser.visit(url)\n",
    "\n",
    "# Splinter\n",
    "# Visit and parse web page\n",
    "html = browser.html\n",
    "soup = BeautifulSoup(html, \"html.parser\")\n",
    "\n",
    "# Review soup object\n",
    "type(soup)"
   ]
  },
  {
   "cell_type": "code",
   "execution_count": 59,
   "metadata": {},
   "outputs": [
    {
     "data": {
      "text/plain": [
       "['/spaceimages/images/mediumsize/PIA00271_ip.jpg',\n",
       " '/spaceimages/images/largesize/PIA24156_hires.jpg',\n",
       " '/spaceimages/images/largesize/PIA24155_hires.jpg',\n",
       " '/spaceimages/images/largesize/PIA24099_hires.jpg',\n",
       " '/spaceimages/images/largesize/PIA24098_hires.jpg',\n",
       " '/spaceimages/images/largesize/PIA24152_hires.jpg',\n",
       " '/spaceimages/images/largesize/PIA24149_hires.jpg',\n",
       " '/spaceimages/images/largesize/PIA24148_hires.jpg',\n",
       " '/spaceimages/images/largesize/PIA24147_hires.jpg',\n",
       " '/spaceimages/images/largesize/PIA24146_hires.jpg',\n",
       " '/spaceimages/images/largesize/PIA24151_hires.jpg',\n",
       " '/spaceimages/images/largesize/PIA24145_hires.jpg',\n",
       " '/spaceimages/images/largesize/PIA24144_hires.jpg',\n",
       " '/spaceimages/images/largesize/PIA24143_hires.jpg',\n",
       " '/spaceimages/images/largesize/PIA24142_hires.jpg',\n",
       " '/spaceimages/images/largesize/PIA24141_hires.jpg',\n",
       " '/spaceimages/images/largesize/PIA24125_hires.jpg',\n",
       " '/spaceimages/images/largesize/PIA24091_hires.jpg',\n",
       " '/spaceimages/images/largesize/PIA24040_hires.jpg',\n",
       " '/spaceimages/images/largesize/PIA24124_hires.jpg',\n",
       " '/spaceimages/images/largesize/PIA24123_hires.jpg',\n",
       " '/spaceimages/images/largesize/PIA24122_hires.jpg',\n",
       " '/spaceimages/images/largesize/PIA24121_hires.jpg',\n",
       " '/spaceimages/images/largesize/PIA24120_hires.jpg',\n",
       " '/spaceimages/images/largesize/PIA24119_hires.jpg',\n",
       " '/spaceimages/images/largesize/PIA24118_hires.jpg',\n",
       " '/spaceimages/images/largesize/PIA24117_hires.jpg',\n",
       " '/spaceimages/images/largesize/PIA24096_hires.jpg',\n",
       " '/spaceimages/images/largesize/PIA24116_hires.jpg',\n",
       " '/spaceimages/images/largesize/PIA24115_hires.jpg',\n",
       " '/spaceimages/images/largesize/PIA24114_hires.jpg',\n",
       " '/spaceimages/images/largesize/PIA24113_hires.jpg',\n",
       " '/spaceimages/images/largesize/PIA24112_hires.jpg']"
      ]
     },
     "execution_count": 59,
     "metadata": {},
     "output_type": "execute_result"
    }
   ],
   "source": [
    "# Click Full Size\n",
    "#browser.click_link_by_partial_text('FULL IMAGE')\n",
    "    \n",
    "#Beautiful Soup\n",
    "a_fancybox = soup.find_all(\"a\", class_=\"fancybox\")\n",
    "\n",
    "# Print result\n",
    "#print(a_fancybox)\n",
    "\n",
    "# Create empty list to capture link\n",
    "image_link = []\n",
    "# Loop through results to find href\n",
    "for box in a_fancybox:\n",
    "      link = box['data-fancybox-href']\n",
    "      image_link.append(link)\n",
    "\n",
    "# print image link list\n",
    "image_link\n"
   ]
  },
  {
   "cell_type": "code",
   "execution_count": 71,
   "metadata": {},
   "outputs": [
    {
     "data": {
      "text/plain": [
       "'http://www.jpl.nasa.gov/spaceimages/images/largesize/PIA24112_hires.jpg'"
      ]
     },
     "execution_count": 71,
     "metadata": {},
     "output_type": "execute_result"
    }
   ],
   "source": [
    "#The image link is the last record returned\n",
    "large_image_link = \"http://www.jpl.nasa.gov\" + image_link[-1]\n",
    "large_image_link"
   ]
  },
  {
   "cell_type": "code",
   "execution_count": null,
   "metadata": {},
   "outputs": [],
   "source": []
  },
  {
   "cell_type": "code",
   "execution_count": null,
   "metadata": {},
   "outputs": [],
   "source": []
  },
  {
   "cell_type": "code",
   "execution_count": null,
   "metadata": {},
   "outputs": [],
   "source": []
  },
  {
   "cell_type": "code",
   "execution_count": null,
   "metadata": {},
   "outputs": [],
   "source": []
  }
 ],
 "metadata": {
  "kernelspec": {
   "display_name": "Python 3",
   "language": "python",
   "name": "python3"
  },
  "language_info": {
   "codemirror_mode": {
    "name": "ipython",
    "version": 3
   },
   "file_extension": ".py",
   "mimetype": "text/x-python",
   "name": "python",
   "nbconvert_exporter": "python",
   "pygments_lexer": "ipython3",
   "version": "3.7.6"
  }
 },
 "nbformat": 4,
 "nbformat_minor": 4
}
