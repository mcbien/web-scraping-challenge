{
 "cells": [
  {
   "cell_type": "markdown",
   "metadata": {},
   "source": [
    "### Bien Missions-To-Mars-Challenge"
   ]
  },
  {
   "cell_type": "code",
   "execution_count": null,
   "metadata": {},
   "outputs": [],
   "source": [
    "#Intructions\n",
    "#Scrape the [NASA Mars News Site](https://mars.nasa.gov/news/) and collect the latest News Title and Paragraph Text. Assign \n",
    "#the text to variables that you can reference later.\n"
   ]
  },
  {
   "cell_type": "code",
   "execution_count": 1,
   "metadata": {},
   "outputs": [],
   "source": [
    "# Import dependencies\n",
    "from bs4 import BeautifulSoup"
   ]
  },
  {
   "cell_type": "code",
   "execution_count": null,
   "metadata": {},
   "outputs": [],
   "source": [
    "# Access html\n"
   ]
  },
  {
   "cell_type": "code",
   "execution_count": null,
   "metadata": {},
   "outputs": [],
   "source": [
    "# Create Beautiful soup object\n",
    "#soup = BeautifulSoup(html_string, 'html.parser')\n"
   ]
  },
  {
   "cell_type": "code",
   "execution_count": null,
   "metadata": {},
   "outputs": [],
   "source": [
    "# Print formatted version of soup object\n",
    "# print(soup.prettify())"
   ]
  },
  {
   "cell_type": "code",
   "execution_count": null,
   "metadata": {},
   "outputs": [],
   "source": [
    "# Extract html pieces from document\n",
    "# soup.title"
   ]
  },
  {
   "cell_type": "code",
   "execution_count": null,
   "metadata": {},
   "outputs": [],
   "source": [
    "# Clean up the text\n",
    "# soup.title.text.strip()"
   ]
  },
  {
   "cell_type": "code",
   "execution_count": null,
   "metadata": {},
   "outputs": [],
   "source": [
    "# Extract html body\n",
    "# soup.body\n",
    "\n",
    "# Extract text of body\n",
    "# soup.body.text\n",
    "\n",
    "# Return first instance of p tag\n",
    "# soup.body.p.text\n",
    "\n",
    "# Find all ptags instances\n",
    "# p_tags = soup.body.find_all('p')\n",
    "\n",
    "# Extract p tag by index\n",
    "# first: p_tags[0], second: p_tags[1].text\n",
    "\n",
    "# Find first instance using 'find'\n",
    "# soup.body.find('p').text\n",
    "\n",
    "# Print all paragrpah texts\n",
    "    # paragraphs = soup.find_all('p')\n",
    "    # for paragraph in paragraphs:\n",
    "    #    print(paragraph.text)\n",
    "\n",
    "# Loop over and print all td elements\n",
    "    #tds = soup.find_all('td')\n",
    "\n",
    "    # A blank list to hold the headlines\n",
    "    #headlines = []\n",
    "\n",
    "    # Loop over td elements\n",
    "    #for td in tds:\n",
    "    \n",
    "    # If td element has an anchor...\n",
    "    #if (td.a):\n",
    "        \n",
    "        # And the anchor has non-blank text...\n",
    "        # if (td.a.text):\n",
    "            \n",
    "            # Append the td to the list\n",
    "            #headlines.append(td)\n"
   ]
  }
 ],
 "metadata": {
  "kernelspec": {
   "display_name": "Python 3",
   "language": "python",
   "name": "python3"
  },
  "language_info": {
   "codemirror_mode": {
    "name": "ipython",
    "version": 3
   },
   "file_extension": ".py",
   "mimetype": "text/x-python",
   "name": "python",
   "nbconvert_exporter": "python",
   "pygments_lexer": "ipython3",
   "version": "3.7.6"
  }
 },
 "nbformat": 4,
 "nbformat_minor": 4
}
